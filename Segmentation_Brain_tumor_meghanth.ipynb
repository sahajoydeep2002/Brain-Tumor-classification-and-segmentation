{
  "nbformat": 4,
  "nbformat_minor": 0,
  "metadata": {
    "accelerator": "GPU",
    "colab": {
      "name": "Segmentation_Brain_tumor_meghanth.ipynb",
      "provenance": [],
      "collapsed_sections": [],
      "include_colab_link": true
    },
    "kernelspec": {
      "display_name": "Python 3",
      "name": "python3"
    },
    "language_info": {
      "name": "python"
    }
  },
  "cells": [
    {
      "cell_type": "markdown",
      "metadata": {
        "id": "view-in-github",
        "colab_type": "text"
      },
      "source": [
        "<a href=\"https://colab.research.google.com/github/Meghanth/brain-tumor-classification-and-segmentation/blob/main/Segmentation_Brain_tumor_meghanth.ipynb\" target=\"_parent\"><img src=\"https://colab.research.google.com/assets/colab-badge.svg\" alt=\"Open In Colab\"/></a>"
      ]
    },
    {
      "cell_type": "code",
      "metadata": {
        "colab": {
          "base_uri": "https://localhost:8080/"
        },
        "id": "l06laOmNhiaN",
        "outputId": "3ab3ac41-4e70-4285-b5bc-7abeb299839d"
      },
      "source": [
        "!nvidia-smi"
      ],
      "execution_count": null,
      "outputs": [
        {
          "output_type": "stream",
          "text": [
            "Tue Jul 27 06:37:50 2021       \n",
            "+-----------------------------------------------------------------------------+\n",
            "| NVIDIA-SMI 470.42.01    Driver Version: 460.32.03    CUDA Version: 11.2     |\n",
            "|-------------------------------+----------------------+----------------------+\n",
            "| GPU  Name        Persistence-M| Bus-Id        Disp.A | Volatile Uncorr. ECC |\n",
            "| Fan  Temp  Perf  Pwr:Usage/Cap|         Memory-Usage | GPU-Util  Compute M. |\n",
            "|                               |                      |               MIG M. |\n",
            "|===============================+======================+======================|\n",
            "|   0  Tesla T4            Off  | 00000000:00:04.0 Off |                    0 |\n",
            "| N/A   36C    P8     9W /  70W |      0MiB / 15109MiB |      0%      Default |\n",
            "|                               |                      |                  N/A |\n",
            "+-------------------------------+----------------------+----------------------+\n",
            "                                                                               \n",
            "+-----------------------------------------------------------------------------+\n",
            "| Processes:                                                                  |\n",
            "|  GPU   GI   CI        PID   Type   Process name                  GPU Memory |\n",
            "|        ID   ID                                                   Usage      |\n",
            "|=============================================================================|\n",
            "|  No running processes found                                                 |\n",
            "+-----------------------------------------------------------------------------+\n"
          ],
          "name": "stdout"
        }
      ]
    },
    {
      "cell_type": "code",
      "metadata": {
        "id": "KTdFaUdFEnYZ"
      },
      "source": [
        "import pandas as pd\n",
        "import numpy as np\n",
        "import seaborn as sns\n",
        "import matplotlib.pyplot as plt\n",
        "import zipfile\n",
        "import cv2\n",
        "from skimage import io\n",
        "import tensorflow as tf\n",
        "from tensorflow.python.keras import Sequential\n",
        "from tensorflow.keras import layers, optimizers\n",
        "from tensorflow.keras.applications import DenseNet121\n",
        "from tensorflow.keras.applications.resnet50 import ResNet50\n",
        "from tensorflow.keras.layers import *\n",
        "from tensorflow.keras.models import Model, load_model\n",
        "from tensorflow.keras.initializers import glorot_uniform\n",
        "from tensorflow.keras.utils import plot_model\n",
        "from tensorflow.keras.callbacks import ReduceLROnPlateau, EarlyStopping, ModelCheckpoint, LearningRateScheduler\n",
        "from IPython.display import display\n",
        "from tensorflow.keras import backend as K\n",
        "from sklearn.preprocessing import StandardScaler, normalize\n",
        "import os\n",
        "import glob\n",
        "import random\n",
        "%matplotlib inline"
      ],
      "execution_count": null,
      "outputs": []
    },
    {
      "cell_type": "code",
      "metadata": {
        "colab": {
          "base_uri": "https://localhost:8080/"
        },
        "id": "n3VrnUY6x5EO",
        "outputId": "b7251670-7d4a-4c4b-a1f9-fa515f864996"
      },
      "source": [
        "from google.colab import drive\n",
        "drive.mount('/content/drive')"
      ],
      "execution_count": null,
      "outputs": [
        {
          "output_type": "stream",
          "text": [
            "Drive already mounted at /content/drive; to attempt to forcibly remount, call drive.mount(\"/content/drive\", force_remount=True).\n"
          ],
          "name": "stdout"
        }
      ]
    },
    {
      "cell_type": "code",
      "metadata": {
        "colab": {
          "base_uri": "https://localhost:8080/",
          "height": 223
        },
        "id": "BR2gX7xwTit3",
        "outputId": "c69d67a2-927a-4eb0-d2aa-7a0ebed0ec7a"
      },
      "source": [
        "# data containing path to Brain MRI and their corresponding mask\n",
        "brain_df = pd.read_csv('/content/drive/MyDrive/Colab Notebooks/data.csv')\n",
        "brain_df.head()"
      ],
      "execution_count": null,
      "outputs": [
        {
          "output_type": "execute_result",
          "data": {
            "text/html": [
              "<div>\n",
              "<style scoped>\n",
              "    .dataframe tbody tr th:only-of-type {\n",
              "        vertical-align: middle;\n",
              "    }\n",
              "\n",
              "    .dataframe tbody tr th {\n",
              "        vertical-align: top;\n",
              "    }\n",
              "\n",
              "    .dataframe thead th {\n",
              "        text-align: right;\n",
              "    }\n",
              "</style>\n",
              "<table border=\"1\" class=\"dataframe\">\n",
              "  <thead>\n",
              "    <tr style=\"text-align: right;\">\n",
              "      <th></th>\n",
              "      <th>Patient</th>\n",
              "      <th>RNASeqCluster</th>\n",
              "      <th>MethylationCluster</th>\n",
              "      <th>miRNACluster</th>\n",
              "      <th>CNCluster</th>\n",
              "      <th>RPPACluster</th>\n",
              "      <th>OncosignCluster</th>\n",
              "      <th>COCCluster</th>\n",
              "      <th>histological_type</th>\n",
              "      <th>neoplasm_histologic_grade</th>\n",
              "      <th>tumor_tissue_site</th>\n",
              "      <th>laterality</th>\n",
              "      <th>tumor_location</th>\n",
              "      <th>gender</th>\n",
              "      <th>age_at_initial_pathologic</th>\n",
              "      <th>race</th>\n",
              "      <th>ethnicity</th>\n",
              "      <th>death01</th>\n",
              "    </tr>\n",
              "  </thead>\n",
              "  <tbody>\n",
              "    <tr>\n",
              "      <th>0</th>\n",
              "      <td>TCGA_CS_4941</td>\n",
              "      <td>2.0</td>\n",
              "      <td>4.0</td>\n",
              "      <td>2</td>\n",
              "      <td>2.0</td>\n",
              "      <td>NaN</td>\n",
              "      <td>3.0</td>\n",
              "      <td>2</td>\n",
              "      <td>1.0</td>\n",
              "      <td>2.0</td>\n",
              "      <td>1.0</td>\n",
              "      <td>3.0</td>\n",
              "      <td>2.0</td>\n",
              "      <td>2.0</td>\n",
              "      <td>67.0</td>\n",
              "      <td>3.0</td>\n",
              "      <td>2.0</td>\n",
              "      <td>1.0</td>\n",
              "    </tr>\n",
              "    <tr>\n",
              "      <th>1</th>\n",
              "      <td>TCGA_CS_4942</td>\n",
              "      <td>1.0</td>\n",
              "      <td>5.0</td>\n",
              "      <td>2</td>\n",
              "      <td>1.0</td>\n",
              "      <td>1.0</td>\n",
              "      <td>2.0</td>\n",
              "      <td>1</td>\n",
              "      <td>1.0</td>\n",
              "      <td>2.0</td>\n",
              "      <td>1.0</td>\n",
              "      <td>3.0</td>\n",
              "      <td>2.0</td>\n",
              "      <td>1.0</td>\n",
              "      <td>44.0</td>\n",
              "      <td>2.0</td>\n",
              "      <td>NaN</td>\n",
              "      <td>1.0</td>\n",
              "    </tr>\n",
              "    <tr>\n",
              "      <th>2</th>\n",
              "      <td>TCGA_CS_4943</td>\n",
              "      <td>1.0</td>\n",
              "      <td>5.0</td>\n",
              "      <td>2</td>\n",
              "      <td>1.0</td>\n",
              "      <td>2.0</td>\n",
              "      <td>2.0</td>\n",
              "      <td>1</td>\n",
              "      <td>1.0</td>\n",
              "      <td>2.0</td>\n",
              "      <td>1.0</td>\n",
              "      <td>1.0</td>\n",
              "      <td>2.0</td>\n",
              "      <td>2.0</td>\n",
              "      <td>37.0</td>\n",
              "      <td>3.0</td>\n",
              "      <td>NaN</td>\n",
              "      <td>0.0</td>\n",
              "    </tr>\n",
              "    <tr>\n",
              "      <th>3</th>\n",
              "      <td>TCGA_CS_4944</td>\n",
              "      <td>NaN</td>\n",
              "      <td>5.0</td>\n",
              "      <td>2</td>\n",
              "      <td>1.0</td>\n",
              "      <td>2.0</td>\n",
              "      <td>1.0</td>\n",
              "      <td>1</td>\n",
              "      <td>1.0</td>\n",
              "      <td>1.0</td>\n",
              "      <td>1.0</td>\n",
              "      <td>3.0</td>\n",
              "      <td>6.0</td>\n",
              "      <td>2.0</td>\n",
              "      <td>50.0</td>\n",
              "      <td>3.0</td>\n",
              "      <td>NaN</td>\n",
              "      <td>0.0</td>\n",
              "    </tr>\n",
              "    <tr>\n",
              "      <th>4</th>\n",
              "      <td>TCGA_CS_5393</td>\n",
              "      <td>4.0</td>\n",
              "      <td>5.0</td>\n",
              "      <td>2</td>\n",
              "      <td>1.0</td>\n",
              "      <td>2.0</td>\n",
              "      <td>3.0</td>\n",
              "      <td>1</td>\n",
              "      <td>1.0</td>\n",
              "      <td>2.0</td>\n",
              "      <td>1.0</td>\n",
              "      <td>1.0</td>\n",
              "      <td>6.0</td>\n",
              "      <td>2.0</td>\n",
              "      <td>39.0</td>\n",
              "      <td>3.0</td>\n",
              "      <td>NaN</td>\n",
              "      <td>0.0</td>\n",
              "    </tr>\n",
              "  </tbody>\n",
              "</table>\n",
              "</div>"
            ],
            "text/plain": [
              "        Patient  RNASeqCluster  MethylationCluster  ...  race  ethnicity  death01\n",
              "0  TCGA_CS_4941            2.0                 4.0  ...   3.0        2.0      1.0\n",
              "1  TCGA_CS_4942            1.0                 5.0  ...   2.0        NaN      1.0\n",
              "2  TCGA_CS_4943            1.0                 5.0  ...   3.0        NaN      0.0\n",
              "3  TCGA_CS_4944            NaN                 5.0  ...   3.0        NaN      0.0\n",
              "4  TCGA_CS_5393            4.0                 5.0  ...   3.0        NaN      0.0\n",
              "\n",
              "[5 rows x 18 columns]"
            ]
          },
          "metadata": {
            "tags": []
          },
          "execution_count": 4
        }
      ]
    },
    {
      "cell_type": "code",
      "metadata": {
        "colab": {
          "base_uri": "https://localhost:8080/"
        },
        "id": "l3NmziIPUCUf",
        "outputId": "cb4d4866-1a83-45c7-b042-272c4a2c10a8"
      },
      "source": [
        "brain_df.info()"
      ],
      "execution_count": null,
      "outputs": [
        {
          "output_type": "stream",
          "text": [
            "<class 'pandas.core.frame.DataFrame'>\n",
            "RangeIndex: 110 entries, 0 to 109\n",
            "Data columns (total 18 columns):\n",
            " #   Column                     Non-Null Count  Dtype  \n",
            "---  ------                     --------------  -----  \n",
            " 0   Patient                    110 non-null    object \n",
            " 1   RNASeqCluster              92 non-null     float64\n",
            " 2   MethylationCluster         109 non-null    float64\n",
            " 3   miRNACluster               110 non-null    int64  \n",
            " 4   CNCluster                  108 non-null    float64\n",
            " 5   RPPACluster                98 non-null     float64\n",
            " 6   OncosignCluster            105 non-null    float64\n",
            " 7   COCCluster                 110 non-null    int64  \n",
            " 8   histological_type          109 non-null    float64\n",
            " 9   neoplasm_histologic_grade  109 non-null    float64\n",
            " 10  tumor_tissue_site          109 non-null    float64\n",
            " 11  laterality                 109 non-null    float64\n",
            " 12  tumor_location             109 non-null    float64\n",
            " 13  gender                     109 non-null    float64\n",
            " 14  age_at_initial_pathologic  109 non-null    float64\n",
            " 15  race                       108 non-null    float64\n",
            " 16  ethnicity                  102 non-null    float64\n",
            " 17  death01                    109 non-null    float64\n",
            "dtypes: float64(15), int64(2), object(1)\n",
            "memory usage: 15.6+ KB\n"
          ],
          "name": "stdout"
        }
      ]
    },
    {
      "cell_type": "code",
      "metadata": {
        "colab": {
          "base_uri": "https://localhost:8080/"
        },
        "id": "GcsCqBQXUMdh",
        "outputId": "ac9e6baa-e8ae-4f90-fc96-fd1addc30360"
      },
      "source": [
        "data_map = []\n",
        "for sub_dir_path in glob.glob(\"/content/drive/MyDrive/Colab Notebooks/lgg-mri-segmentation/kaggle_3m/\"+\"*\"):\n",
        "    try:\n",
        "        dir_name = sub_dir_path.split('/')[-1]\n",
        "        for filename in os.listdir(sub_dir_path):\n",
        "            image_path = sub_dir_path+\"/\"+filename\n",
        "            data_map.extend([dir_name, image_path])\n",
        "    except Exception as e:\n",
        "        print(e)"
      ],
      "execution_count": null,
      "outputs": [
        {
          "output_type": "stream",
          "text": [
            "[Errno 20] Not a directory: '/content/drive/MyDrive/Colab Notebooks/Dataset/Segmentation_Brain_Tumor_Data/lgg-mri-segmentation/kaggle_3m/README.md'\n",
            "[Errno 20] Not a directory: '/content/drive/MyDrive/Colab Notebooks/Dataset/Segmentation_Brain_Tumor_Data/lgg-mri-segmentation/kaggle_3m/data.csv'\n"
          ],
          "name": "stdout"
        }
      ]
    },
    {
      "cell_type": "code",
      "metadata": {
        "colab": {
          "base_uri": "https://localhost:8080/",
          "height": 203
        },
        "id": "cKV5MS_AVOo4",
        "outputId": "33ed375e-0602-4239-81a5-4d83b281bae1"
      },
      "source": [
        "df = pd.DataFrame({\"patient_id\": data_map[::2], \"path\": data_map[1::2]})\n",
        "df.head()"
      ],
      "execution_count": null,
      "outputs": [
        {
          "output_type": "execute_result",
          "data": {
            "text/html": [
              "<div>\n",
              "<style scoped>\n",
              "    .dataframe tbody tr th:only-of-type {\n",
              "        vertical-align: middle;\n",
              "    }\n",
              "\n",
              "    .dataframe tbody tr th {\n",
              "        vertical-align: top;\n",
              "    }\n",
              "\n",
              "    .dataframe thead th {\n",
              "        text-align: right;\n",
              "    }\n",
              "</style>\n",
              "<table border=\"1\" class=\"dataframe\">\n",
              "  <thead>\n",
              "    <tr style=\"text-align: right;\">\n",
              "      <th></th>\n",
              "      <th>patient_id</th>\n",
              "      <th>path</th>\n",
              "    </tr>\n",
              "  </thead>\n",
              "  <tbody>\n",
              "    <tr>\n",
              "      <th>0</th>\n",
              "      <td>TCGA_HT_A61B_19991127</td>\n",
              "      <td>/content/drive/MyDrive/Colab Notebooks/Dataset...</td>\n",
              "    </tr>\n",
              "    <tr>\n",
              "      <th>1</th>\n",
              "      <td>TCGA_HT_A61B_19991127</td>\n",
              "      <td>/content/drive/MyDrive/Colab Notebooks/Dataset...</td>\n",
              "    </tr>\n",
              "    <tr>\n",
              "      <th>2</th>\n",
              "      <td>TCGA_HT_A61B_19991127</td>\n",
              "      <td>/content/drive/MyDrive/Colab Notebooks/Dataset...</td>\n",
              "    </tr>\n",
              "    <tr>\n",
              "      <th>3</th>\n",
              "      <td>TCGA_HT_A61B_19991127</td>\n",
              "      <td>/content/drive/MyDrive/Colab Notebooks/Dataset...</td>\n",
              "    </tr>\n",
              "    <tr>\n",
              "      <th>4</th>\n",
              "      <td>TCGA_HT_A61B_19991127</td>\n",
              "      <td>/content/drive/MyDrive/Colab Notebooks/Dataset...</td>\n",
              "    </tr>\n",
              "  </tbody>\n",
              "</table>\n",
              "</div>"
            ],
            "text/plain": [
              "              patient_id                                               path\n",
              "0  TCGA_HT_A61B_19991127  /content/drive/MyDrive/Colab Notebooks/Dataset...\n",
              "1  TCGA_HT_A61B_19991127  /content/drive/MyDrive/Colab Notebooks/Dataset...\n",
              "2  TCGA_HT_A61B_19991127  /content/drive/MyDrive/Colab Notebooks/Dataset...\n",
              "3  TCGA_HT_A61B_19991127  /content/drive/MyDrive/Colab Notebooks/Dataset...\n",
              "4  TCGA_HT_A61B_19991127  /content/drive/MyDrive/Colab Notebooks/Dataset..."
            ]
          },
          "metadata": {
            "tags": []
          },
          "execution_count": 7
        }
      ]
    },
    {
      "cell_type": "code",
      "metadata": {
        "colab": {
          "base_uri": "https://localhost:8080/"
        },
        "id": "MWDJ0levVg-I",
        "outputId": "c711cba2-005c-4947-a0d6-0188ddfeaef6"
      },
      "source": [
        "df_imgs = df[~df['path'].str.contains(\"mask\")]\n",
        "df_masks = df[df['path'].str.contains(\"mask\")]\n",
        "\n",
        "BASE_LEN = 152\n",
        "END_IMG_LEN = 4\n",
        "END_MASK_LEN = 9\n",
        "\n",
        "\n",
        "imgs = sorted(df_imgs[\"path\"].values, key=lambda x: int(x[BASE_LEN:-END_IMG_LEN]))\n",
        "masks = sorted(df_masks[\"path\"].values, key=lambda x: int(x[BASE_LEN:-END_MASK_LEN]))\n",
        "\n",
        "\n",
        "# Sorting check\n",
        "idx = random.randint(0, len(imgs)-1)\n",
        "print(\"Path to the Image:\", imgs[idx], \"\\nPath to the Mask:\", masks[idx])"
      ],
      "execution_count": null,
      "outputs": [
        {
          "output_type": "stream",
          "text": [
            "Path to the Image: /content/drive/MyDrive/Colab Notebooks/Dataset/Segmentation_Brain_Tumor_Data/lgg-mri-segmentation/kaggle_3m/TCGA_CS_4941_19960909/TCGA_CS_4941_19960909_23.tif \n",
            "Path to the Mask: /content/drive/MyDrive/Colab Notebooks/Dataset/Segmentation_Brain_Tumor_Data/lgg-mri-segmentation/kaggle_3m/TCGA_CS_4941_19960909/TCGA_CS_4941_19960909_23_mask.tif\n"
          ],
          "name": "stdout"
        }
      ]
    },
    {
      "cell_type": "code",
      "metadata": {
        "id": "VHbn4-YwZF1X",
        "colab": {
          "base_uri": "https://localhost:8080/",
          "height": 203
        },
        "outputId": "445a25d6-2227-4f50-821a-3e6af22dfcff"
      },
      "source": [
        "# Final dataframe\n",
        "brain_df = pd.DataFrame({\"patient_id\": df_imgs.patient_id.values,\n",
        "                         \"image_path\": imgs,\n",
        "                         \"mask_path\": masks\n",
        "                        })\n",
        "\n",
        "def pos_neg_diagnosis(mask_path):\n",
        "    value = np.max(cv2.imread(mask_path))\n",
        "    if value > 0 : \n",
        "        return 1\n",
        "    else:\n",
        "        return 0\n",
        "    \n",
        "brain_df['mask'] = brain_df['mask_path'].apply(lambda x: pos_neg_diagnosis(x))\n",
        "brain_df.head()"
      ],
      "execution_count": null,
      "outputs": [
        {
          "output_type": "execute_result",
          "data": {
            "text/html": [
              "<div>\n",
              "<style scoped>\n",
              "    .dataframe tbody tr th:only-of-type {\n",
              "        vertical-align: middle;\n",
              "    }\n",
              "\n",
              "    .dataframe tbody tr th {\n",
              "        vertical-align: top;\n",
              "    }\n",
              "\n",
              "    .dataframe thead th {\n",
              "        text-align: right;\n",
              "    }\n",
              "</style>\n",
              "<table border=\"1\" class=\"dataframe\">\n",
              "  <thead>\n",
              "    <tr style=\"text-align: right;\">\n",
              "      <th></th>\n",
              "      <th>patient_id</th>\n",
              "      <th>image_path</th>\n",
              "      <th>mask_path</th>\n",
              "      <th>mask</th>\n",
              "    </tr>\n",
              "  </thead>\n",
              "  <tbody>\n",
              "    <tr>\n",
              "      <th>0</th>\n",
              "      <td>TCGA_HT_A61B_19991127</td>\n",
              "      <td>/content/drive/MyDrive/Colab Notebooks/Dataset...</td>\n",
              "      <td>/content/drive/MyDrive/Colab Notebooks/Dataset...</td>\n",
              "      <td>0</td>\n",
              "    </tr>\n",
              "    <tr>\n",
              "      <th>1</th>\n",
              "      <td>TCGA_HT_A61B_19991127</td>\n",
              "      <td>/content/drive/MyDrive/Colab Notebooks/Dataset...</td>\n",
              "      <td>/content/drive/MyDrive/Colab Notebooks/Dataset...</td>\n",
              "      <td>0</td>\n",
              "    </tr>\n",
              "    <tr>\n",
              "      <th>2</th>\n",
              "      <td>TCGA_HT_A61B_19991127</td>\n",
              "      <td>/content/drive/MyDrive/Colab Notebooks/Dataset...</td>\n",
              "      <td>/content/drive/MyDrive/Colab Notebooks/Dataset...</td>\n",
              "      <td>0</td>\n",
              "    </tr>\n",
              "    <tr>\n",
              "      <th>3</th>\n",
              "      <td>TCGA_HT_A61B_19991127</td>\n",
              "      <td>/content/drive/MyDrive/Colab Notebooks/Dataset...</td>\n",
              "      <td>/content/drive/MyDrive/Colab Notebooks/Dataset...</td>\n",
              "      <td>0</td>\n",
              "    </tr>\n",
              "    <tr>\n",
              "      <th>4</th>\n",
              "      <td>TCGA_HT_A61B_19991127</td>\n",
              "      <td>/content/drive/MyDrive/Colab Notebooks/Dataset...</td>\n",
              "      <td>/content/drive/MyDrive/Colab Notebooks/Dataset...</td>\n",
              "      <td>0</td>\n",
              "    </tr>\n",
              "  </tbody>\n",
              "</table>\n",
              "</div>"
            ],
            "text/plain": [
              "              patient_id  ... mask\n",
              "0  TCGA_HT_A61B_19991127  ...    0\n",
              "1  TCGA_HT_A61B_19991127  ...    0\n",
              "2  TCGA_HT_A61B_19991127  ...    0\n",
              "3  TCGA_HT_A61B_19991127  ...    0\n",
              "4  TCGA_HT_A61B_19991127  ...    0\n",
              "\n",
              "[5 rows x 4 columns]"
            ]
          },
          "metadata": {
            "tags": []
          },
          "execution_count": 9
        }
      ]
    },
    {
      "cell_type": "code",
      "metadata": {
        "id": "b9Dbc3vgZYrt",
        "colab": {
          "base_uri": "https://localhost:8080/"
        },
        "outputId": "1872f701-41a5-4af0-859c-bd8edbd27e95"
      },
      "source": [
        "brain_df_mask = brain_df[brain_df['mask']==1]\n",
        "brain_df_mask.shape"
      ],
      "execution_count": null,
      "outputs": [
        {
          "output_type": "execute_result",
          "data": {
            "text/plain": [
              "(1373, 4)"
            ]
          },
          "metadata": {
            "tags": []
          },
          "execution_count": 10
        }
      ]
    },
    {
      "cell_type": "code",
      "metadata": {
        "id": "XGYFopEZdVy5",
        "colab": {
          "base_uri": "https://localhost:8080/"
        },
        "outputId": "7a619460-0344-42fc-8f2e-9f00e17427b1"
      },
      "source": [
        "from sklearn.model_selection import train_test_split\n",
        "# creating test, train and val sets\n",
        "X_train, X_val = train_test_split(brain_df_mask, test_size=0.15)\n",
        "X_test, X_val = train_test_split(X_val, test_size=0.5)\n",
        "print(\"Train size is \", len(X_train), \"valid size is \", len(X_val),\"test size is\",len(X_test))\n",
        "\n",
        "train_ids = list(X_train.image_path)\n",
        "train_mask = list(X_train.mask_path)\n",
        "\n",
        "val_ids = list(X_val.image_path)\n",
        "val_mask= list(X_val.mask_path)"
      ],
      "execution_count": null,
      "outputs": [
        {
          "output_type": "stream",
          "text": [
            "Train size is  1167 valid size is  103 test size is 103\n"
          ],
          "name": "stdout"
        }
      ]
    },
    {
      "cell_type": "code",
      "metadata": {
        "id": "zfo2Jp-jfcSJ"
      },
      "source": [
        "image_size = 256\n",
        "batch_size = 32"
      ],
      "execution_count": null,
      "outputs": []
    },
    {
      "cell_type": "code",
      "metadata": {
        "id": "1YOxS3ejdg7A"
      },
      "source": [
        "import pandas as pd\n",
        "import numpy as np\n",
        "import seaborn as sns\n",
        "import cv2\n",
        "import tensorflow as tf\n",
        "import os\n",
        "from skimage import io\n",
        "from PIL import Image\n",
        "from tensorflow.keras import backend as K \n",
        "\n",
        "#creating a custom datagenerator\n",
        "\n",
        "class DataGenerator(tf.keras.utils.Sequence):\n",
        "    def __init__(self, ids , mask, image_dir = ' ', batch_size = 32, img_h = 256, img_w = 256, shuffle = True):\n",
        "\n",
        "        self.ids = ids\n",
        "        self.mask = mask\n",
        "        self.image_dir = image_dir\n",
        "        self.batch_size = batch_size\n",
        "        self.img_h = img_h\n",
        "        self.img_w = img_w\n",
        "        self.shuffle = shuffle\n",
        "        self.on_epoch_end()\n",
        "\n",
        "    def __len__(self):\n",
        "        'Get the number of batches per epoch'\n",
        "\n",
        "        return int(np.floor(len(self.ids))/self.batch_size)\n",
        "\n",
        "    def __getitem__(self, index):\n",
        "        'Generate a batch of data'\n",
        "\n",
        "        indexes = self.indexes[index*self.batch_size:(index+1)*self.batch_size]\n",
        "\n",
        "        list_ids = [self.ids[i] for i in indexes]\n",
        "\n",
        "        list_mask = [self.mask[i] for i in indexes]\n",
        "\n",
        "        X, y = self.__data_generation(list_ids, list_mask)\n",
        "\n",
        "        return X, y\n",
        "\n",
        "    def on_epoch_end(self):\n",
        "        'Used fror updating the indices after each epoch, once at the beginning as well as at the end of each epoch'\n",
        "        self.indexes = np.arange(len(self.ids))\n",
        "\n",
        "        if self.shuffle:\n",
        "            np.random.shuffle(self.indexes)\n",
        "\n",
        "    def __data_generation(self, list_ids, list_mask):\n",
        "        'generate the data corresponding the indexex in a given batch of images'\n",
        "\n",
        "        X = np.empty((self.batch_size, self.img_h, self.img_w, 3))\n",
        "        y = np.empty((self.batch_size, self.img_h, self.img_w, 1))\n",
        "\n",
        "        for i in range(len(list_ids)):\n",
        "            img_path = str(list_ids[i])\n",
        "            mask_path = str(list_mask[i])\n",
        "\n",
        "            img = io.imread(img_path)\n",
        "            mask = io.imread(mask_path)\n",
        "\n",
        "            img = cv2.resize(img, (self.img_h, self.img_w))\n",
        "            img = np.array(img, dtype=np.float64)\n",
        "            mask = cv2.resize(mask, (self.img_h, self.img_w))\n",
        "            mask = np.array(mask, dtype=np.float64)\n",
        "\n",
        "            img -= img.mean()\n",
        "            img /= img.std()\n",
        "\n",
        "            mask -= mask.mean()\n",
        "            mask /= mask.std()\n",
        "\n",
        "            X[i,] = img\n",
        "            y[i,] = np.expand_dims(mask, axis = 2)\n",
        "\n",
        "        y = (y>0).astype(int)\n",
        "\n",
        "        return X, y"
      ],
      "execution_count": null,
      "outputs": []
    },
    {
      "cell_type": "code",
      "metadata": {
        "id": "74EOpBvaC6sZ"
      },
      "source": [
        "train_data = DataGenerator(train_ids, train_mask)\n",
        "val_data = DataGenerator(val_ids, val_mask)"
      ],
      "execution_count": null,
      "outputs": []
    },
    {
      "cell_type": "code",
      "metadata": {
        "id": "aP9Ewg3KckVp",
        "colab": {
          "base_uri": "https://localhost:8080/"
        },
        "outputId": "d7671699-abd4-4e93-8a8a-d2ab814d39e8"
      },
      "source": [
        "len(train_data)"
      ],
      "execution_count": null,
      "outputs": [
        {
          "output_type": "execute_result",
          "data": {
            "text/plain": [
              "36"
            ]
          },
          "metadata": {
            "tags": []
          },
          "execution_count": 15
        }
      ]
    },
    {
      "cell_type": "code",
      "metadata": {
        "id": "ljVlSM3tfH9Q"
      },
      "source": [
        "from tensorflow import keras"
      ],
      "execution_count": null,
      "outputs": []
    },
    {
      "cell_type": "code",
      "metadata": {
        "id": "PBJXSJdlem4o"
      },
      "source": [
        "def bn_act(x, act=True):\n",
        "    x = keras.layers.BatchNormalization()(x)\n",
        "    if act == True:\n",
        "        x = keras.layers.Activation(\"relu\")(x)\n",
        "    return x\n",
        "\n",
        "def conv_block(x, filters, kernel_size=(3, 3), padding=\"same\", strides=1):\n",
        "    conv = bn_act(x)\n",
        "    conv = keras.layers.Conv2D(filters, kernel_size, padding=padding, strides=strides)(conv)\n",
        "    conv = keras.layers.Dropout(0.3)(conv)\n",
        "    return conv\n",
        "\n",
        "def stem(x, filters, kernel_size=(3, 3), padding=\"same\", strides=1):\n",
        "    conv = keras.layers.Conv2D(filters, kernel_size, padding=padding, strides=strides)(x)\n",
        "    conv = conv_block(conv, filters, kernel_size=kernel_size, padding=padding, strides=strides)\n",
        "    \n",
        "    shortcut = keras.layers.Conv2D(filters, kernel_size=(1, 1), padding=padding, strides=strides)(x)\n",
        "    shortcut = bn_act(shortcut, act=False)\n",
        "    \n",
        "    output = keras.layers.Add()([conv, shortcut])\n",
        "    return output\n",
        "\n",
        "def residual_block(x, filters, kernel_size=(3, 3), padding=\"same\", strides=1):\n",
        "    res = conv_block(x, filters, kernel_size=kernel_size, padding=padding, strides=strides)\n",
        "    res = conv_block(res, filters, kernel_size=kernel_size, padding=padding, strides=1)\n",
        "    \n",
        "    shortcut = keras.layers.Conv2D(filters, kernel_size=(1, 1), padding=padding, strides=strides)(x)\n",
        "    shortcut = bn_act(shortcut, act=False)\n",
        "    \n",
        "    output = keras.layers.Add()([shortcut, res])\n",
        "    return output\n",
        "\n",
        "def upsample_concat_block(x, xskip):\n",
        "    u = keras.layers.UpSampling2D((2, 2))(x)\n",
        "    c = keras.layers.Concatenate()([u, xskip])\n",
        "    return c"
      ],
      "execution_count": null,
      "outputs": []
    },
    {
      "cell_type": "code",
      "metadata": {
        "id": "cPzfB4Rsetox"
      },
      "source": [
        "def ResUNet():\n",
        "    f = [16, 32, 64, 128, 256]\n",
        "    inputs = keras.layers.Input((image_size, image_size, 3))\n",
        "    \n",
        "    ## Encoder\n",
        "    e0 = inputs\n",
        "    e1 = stem(e0, f[0])\n",
        "    e2 = residual_block(e1, f[1], strides=2)\n",
        "    e3 = residual_block(e2, f[2], strides=2)\n",
        "    e4 = residual_block(e3, f[3], strides=2)\n",
        "    e5 = residual_block(e4, f[4], strides=2)\n",
        "    \n",
        "    ## Bridge\n",
        "    b0 = conv_block(e5, f[4], strides=1)\n",
        "    b1 = conv_block(b0, f[4], strides=1)\n",
        "    \n",
        "    ## Decoder\n",
        "    u1 = upsample_concat_block(b1, e4)\n",
        "    d1 = residual_block(u1, f[4])\n",
        "    \n",
        "    u2 = upsample_concat_block(d1, e3)\n",
        "    d2 = residual_block(u2, f[3])\n",
        "    \n",
        "    u3 = upsample_concat_block(d2, e2)\n",
        "    d3 = residual_block(u3, f[2])\n",
        "    \n",
        "    u4 = upsample_concat_block(d3, e1)\n",
        "    d4 = residual_block(u4, f[1])\n",
        "    \n",
        "    outputs = keras.layers.Conv2D(1, (1, 1), padding=\"same\", activation=\"sigmoid\")(d4)\n",
        "    model = keras.models.Model(inputs, outputs)\n",
        "    return model"
      ],
      "execution_count": null,
      "outputs": []
    },
    {
      "cell_type": "code",
      "metadata": {
        "id": "7hsoXLbLDJFy",
        "colab": {
          "base_uri": "https://localhost:8080/"
        },
        "outputId": "b76fee74-0d20-43d6-a650-6d5d4cd307fe"
      },
      "source": [
        "print(len(train_data))\n",
        "print(len(val_data))"
      ],
      "execution_count": null,
      "outputs": [
        {
          "output_type": "stream",
          "text": [
            "36\n",
            "3\n"
          ],
          "name": "stdout"
        }
      ]
    },
    {
      "cell_type": "code",
      "metadata": {
        "id": "DNrbtYgvHuum"
      },
      "source": [
        "from keras.losses import binary_crossentropy\n",
        "\n",
        "epsilon = 1e-5\n",
        "smooth = 1\n",
        "\n",
        "def tversky(y_true, y_pred):\n",
        "    y_true_pos = K.flatten(y_true)\n",
        "    y_pred_pos = K.flatten(y_pred)\n",
        "    true_pos = K.sum(y_true_pos * y_pred_pos)\n",
        "    false_neg = K.sum(y_true_pos * (1-y_pred_pos))\n",
        "    false_pos = K.sum((1-y_true_pos)*y_pred_pos)\n",
        "    alpha = 0.7\n",
        "    return (true_pos + smooth)/(true_pos + alpha*false_neg + (1-alpha)*false_pos + smooth)\n",
        "\n",
        "def focal_tversky(y_true,y_pred):\n",
        "    y_true = tf.cast(y_true, tf.float32)\n",
        "    y_pred = tf.cast(y_pred, tf.float32)\n",
        "    \n",
        "    pt_1 = tversky(y_true, y_pred)\n",
        "    gamma = 0.75\n",
        "    return K.pow((1-pt_1), gamma)\n",
        "\n",
        "def tversky_loss(y_true, y_pred):\n",
        "    return 1 - tversky(y_true,y_pred)\n",
        "\n",
        "def dice_coef(y_true, y_pred):\n",
        "    return (2. * K.sum(y_true * y_pred)) / (K.sum(y_true) + K.sum(y_pred))\n",
        "\n",
        "def IoU(pred, targs):\n",
        "    pred = (pred>0).float()\n",
        "    intersection = (pred*targs).sum()\n",
        "    return intersection / ((pred+targs).sum() - intersection + 1.0)"
      ],
      "execution_count": null,
      "outputs": []
    },
    {
      "cell_type": "code",
      "metadata": {
        "id": "2vifz6sTicSv"
      },
      "source": [
        "model = ResUNet()"
      ],
      "execution_count": null,
      "outputs": []
    },
    {
      "cell_type": "code",
      "metadata": {
        "id": "rsyGClZ8IWR5",
        "colab": {
          "base_uri": "https://localhost:8080/"
        },
        "outputId": "1947344d-9a74-4119-8801-f7bc87b0cd89"
      },
      "source": [
        "\n",
        "adam = tf.keras.optimizers.Adam(lr = 0.05, epsilon = 0.1)\n",
        "model.compile(optimizer = adam, \n",
        "                  loss = focal_tversky, \n",
        "                  metrics = [tversky, dice_coef]\n",
        "                 )\n",
        "#callbacks\n",
        "earlystopping = EarlyStopping(monitor='val_loss',\n",
        "                              mode='min', \n",
        "                              verbose=1, \n",
        "                              patience=20\n",
        "                             )\n",
        "# save the best model with lower validation loss\n",
        "checkpointer = ModelCheckpoint(filepath=\"ResUNet-segModel-weights.hdf5\", \n",
        "                               verbose=1, \n",
        "                               save_best_only=True\n",
        "                              )\n",
        "reduce_lr = ReduceLROnPlateau(monitor='val_loss',\n",
        "                              mode='min',\n",
        "                              verbose=1,\n",
        "                              patience=10,\n",
        "                              min_delta=0.0001,\n",
        "                              factor=0.2\n",
        "                             )"
      ],
      "execution_count": null,
      "outputs": [
        {
          "output_type": "stream",
          "text": [
            "/usr/local/lib/python3.7/dist-packages/tensorflow/python/keras/optimizer_v2/optimizer_v2.py:375: UserWarning: The `lr` argument is deprecated, use `learning_rate` instead.\n",
            "  \"The `lr` argument is deprecated, use `learning_rate` instead.\")\n"
          ],
          "name": "stderr"
        }
      ]
    },
    {
      "cell_type": "code",
      "metadata": {
        "id": "HecnLuoYfowf",
        "colab": {
          "base_uri": "https://localhost:8080/"
        },
        "outputId": "e05c465c-1fb9-42fe-9498-26f2577122e5"
      },
      "source": [
        "model.summary()"
      ],
      "execution_count": null,
      "outputs": [
        {
          "output_type": "stream",
          "text": [
            "Model: \"model\"\n",
            "__________________________________________________________________________________________________\n",
            "Layer (type)                    Output Shape         Param #     Connected to                     \n",
            "==================================================================================================\n",
            "input_1 (InputLayer)            [(None, 256, 256, 3) 0                                            \n",
            "__________________________________________________________________________________________________\n",
            "conv2d (Conv2D)                 (None, 256, 256, 16) 448         input_1[0][0]                    \n",
            "__________________________________________________________________________________________________\n",
            "batch_normalization (BatchNorma (None, 256, 256, 16) 64          conv2d[0][0]                     \n",
            "__________________________________________________________________________________________________\n",
            "activation (Activation)         (None, 256, 256, 16) 0           batch_normalization[0][0]        \n",
            "__________________________________________________________________________________________________\n",
            "conv2d_1 (Conv2D)               (None, 256, 256, 16) 2320        activation[0][0]                 \n",
            "__________________________________________________________________________________________________\n",
            "conv2d_2 (Conv2D)               (None, 256, 256, 16) 64          input_1[0][0]                    \n",
            "__________________________________________________________________________________________________\n",
            "dropout (Dropout)               (None, 256, 256, 16) 0           conv2d_1[0][0]                   \n",
            "__________________________________________________________________________________________________\n",
            "batch_normalization_1 (BatchNor (None, 256, 256, 16) 64          conv2d_2[0][0]                   \n",
            "__________________________________________________________________________________________________\n",
            "add (Add)                       (None, 256, 256, 16) 0           dropout[0][0]                    \n",
            "                                                                 batch_normalization_1[0][0]      \n",
            "__________________________________________________________________________________________________\n",
            "batch_normalization_2 (BatchNor (None, 256, 256, 16) 64          add[0][0]                        \n",
            "__________________________________________________________________________________________________\n",
            "activation_1 (Activation)       (None, 256, 256, 16) 0           batch_normalization_2[0][0]      \n",
            "__________________________________________________________________________________________________\n",
            "conv2d_3 (Conv2D)               (None, 128, 128, 32) 4640        activation_1[0][0]               \n",
            "__________________________________________________________________________________________________\n",
            "dropout_1 (Dropout)             (None, 128, 128, 32) 0           conv2d_3[0][0]                   \n",
            "__________________________________________________________________________________________________\n",
            "batch_normalization_3 (BatchNor (None, 128, 128, 32) 128         dropout_1[0][0]                  \n",
            "__________________________________________________________________________________________________\n",
            "activation_2 (Activation)       (None, 128, 128, 32) 0           batch_normalization_3[0][0]      \n",
            "__________________________________________________________________________________________________\n",
            "conv2d_5 (Conv2D)               (None, 128, 128, 32) 544         add[0][0]                        \n",
            "__________________________________________________________________________________________________\n",
            "conv2d_4 (Conv2D)               (None, 128, 128, 32) 9248        activation_2[0][0]               \n",
            "__________________________________________________________________________________________________\n",
            "batch_normalization_4 (BatchNor (None, 128, 128, 32) 128         conv2d_5[0][0]                   \n",
            "__________________________________________________________________________________________________\n",
            "dropout_2 (Dropout)             (None, 128, 128, 32) 0           conv2d_4[0][0]                   \n",
            "__________________________________________________________________________________________________\n",
            "add_1 (Add)                     (None, 128, 128, 32) 0           batch_normalization_4[0][0]      \n",
            "                                                                 dropout_2[0][0]                  \n",
            "__________________________________________________________________________________________________\n",
            "batch_normalization_5 (BatchNor (None, 128, 128, 32) 128         add_1[0][0]                      \n",
            "__________________________________________________________________________________________________\n",
            "activation_3 (Activation)       (None, 128, 128, 32) 0           batch_normalization_5[0][0]      \n",
            "__________________________________________________________________________________________________\n",
            "conv2d_6 (Conv2D)               (None, 64, 64, 64)   18496       activation_3[0][0]               \n",
            "__________________________________________________________________________________________________\n",
            "dropout_3 (Dropout)             (None, 64, 64, 64)   0           conv2d_6[0][0]                   \n",
            "__________________________________________________________________________________________________\n",
            "batch_normalization_6 (BatchNor (None, 64, 64, 64)   256         dropout_3[0][0]                  \n",
            "__________________________________________________________________________________________________\n",
            "activation_4 (Activation)       (None, 64, 64, 64)   0           batch_normalization_6[0][0]      \n",
            "__________________________________________________________________________________________________\n",
            "conv2d_8 (Conv2D)               (None, 64, 64, 64)   2112        add_1[0][0]                      \n",
            "__________________________________________________________________________________________________\n",
            "conv2d_7 (Conv2D)               (None, 64, 64, 64)   36928       activation_4[0][0]               \n",
            "__________________________________________________________________________________________________\n",
            "batch_normalization_7 (BatchNor (None, 64, 64, 64)   256         conv2d_8[0][0]                   \n",
            "__________________________________________________________________________________________________\n",
            "dropout_4 (Dropout)             (None, 64, 64, 64)   0           conv2d_7[0][0]                   \n",
            "__________________________________________________________________________________________________\n",
            "add_2 (Add)                     (None, 64, 64, 64)   0           batch_normalization_7[0][0]      \n",
            "                                                                 dropout_4[0][0]                  \n",
            "__________________________________________________________________________________________________\n",
            "batch_normalization_8 (BatchNor (None, 64, 64, 64)   256         add_2[0][0]                      \n",
            "__________________________________________________________________________________________________\n",
            "activation_5 (Activation)       (None, 64, 64, 64)   0           batch_normalization_8[0][0]      \n",
            "__________________________________________________________________________________________________\n",
            "conv2d_9 (Conv2D)               (None, 32, 32, 128)  73856       activation_5[0][0]               \n",
            "__________________________________________________________________________________________________\n",
            "dropout_5 (Dropout)             (None, 32, 32, 128)  0           conv2d_9[0][0]                   \n",
            "__________________________________________________________________________________________________\n",
            "batch_normalization_9 (BatchNor (None, 32, 32, 128)  512         dropout_5[0][0]                  \n",
            "__________________________________________________________________________________________________\n",
            "activation_6 (Activation)       (None, 32, 32, 128)  0           batch_normalization_9[0][0]      \n",
            "__________________________________________________________________________________________________\n",
            "conv2d_11 (Conv2D)              (None, 32, 32, 128)  8320        add_2[0][0]                      \n",
            "__________________________________________________________________________________________________\n",
            "conv2d_10 (Conv2D)              (None, 32, 32, 128)  147584      activation_6[0][0]               \n",
            "__________________________________________________________________________________________________\n",
            "batch_normalization_10 (BatchNo (None, 32, 32, 128)  512         conv2d_11[0][0]                  \n",
            "__________________________________________________________________________________________________\n",
            "dropout_6 (Dropout)             (None, 32, 32, 128)  0           conv2d_10[0][0]                  \n",
            "__________________________________________________________________________________________________\n",
            "add_3 (Add)                     (None, 32, 32, 128)  0           batch_normalization_10[0][0]     \n",
            "                                                                 dropout_6[0][0]                  \n",
            "__________________________________________________________________________________________________\n",
            "batch_normalization_11 (BatchNo (None, 32, 32, 128)  512         add_3[0][0]                      \n",
            "__________________________________________________________________________________________________\n",
            "activation_7 (Activation)       (None, 32, 32, 128)  0           batch_normalization_11[0][0]     \n",
            "__________________________________________________________________________________________________\n",
            "conv2d_12 (Conv2D)              (None, 16, 16, 256)  295168      activation_7[0][0]               \n",
            "__________________________________________________________________________________________________\n",
            "dropout_7 (Dropout)             (None, 16, 16, 256)  0           conv2d_12[0][0]                  \n",
            "__________________________________________________________________________________________________\n",
            "batch_normalization_12 (BatchNo (None, 16, 16, 256)  1024        dropout_7[0][0]                  \n",
            "__________________________________________________________________________________________________\n",
            "activation_8 (Activation)       (None, 16, 16, 256)  0           batch_normalization_12[0][0]     \n",
            "__________________________________________________________________________________________________\n",
            "conv2d_14 (Conv2D)              (None, 16, 16, 256)  33024       add_3[0][0]                      \n",
            "__________________________________________________________________________________________________\n",
            "conv2d_13 (Conv2D)              (None, 16, 16, 256)  590080      activation_8[0][0]               \n",
            "__________________________________________________________________________________________________\n",
            "batch_normalization_13 (BatchNo (None, 16, 16, 256)  1024        conv2d_14[0][0]                  \n",
            "__________________________________________________________________________________________________\n",
            "dropout_8 (Dropout)             (None, 16, 16, 256)  0           conv2d_13[0][0]                  \n",
            "__________________________________________________________________________________________________\n",
            "add_4 (Add)                     (None, 16, 16, 256)  0           batch_normalization_13[0][0]     \n",
            "                                                                 dropout_8[0][0]                  \n",
            "__________________________________________________________________________________________________\n",
            "batch_normalization_14 (BatchNo (None, 16, 16, 256)  1024        add_4[0][0]                      \n",
            "__________________________________________________________________________________________________\n",
            "activation_9 (Activation)       (None, 16, 16, 256)  0           batch_normalization_14[0][0]     \n",
            "__________________________________________________________________________________________________\n",
            "conv2d_15 (Conv2D)              (None, 16, 16, 256)  590080      activation_9[0][0]               \n",
            "__________________________________________________________________________________________________\n",
            "dropout_9 (Dropout)             (None, 16, 16, 256)  0           conv2d_15[0][0]                  \n",
            "__________________________________________________________________________________________________\n",
            "batch_normalization_15 (BatchNo (None, 16, 16, 256)  1024        dropout_9[0][0]                  \n",
            "__________________________________________________________________________________________________\n",
            "activation_10 (Activation)      (None, 16, 16, 256)  0           batch_normalization_15[0][0]     \n",
            "__________________________________________________________________________________________________\n",
            "conv2d_16 (Conv2D)              (None, 16, 16, 256)  590080      activation_10[0][0]              \n",
            "__________________________________________________________________________________________________\n",
            "dropout_10 (Dropout)            (None, 16, 16, 256)  0           conv2d_16[0][0]                  \n",
            "__________________________________________________________________________________________________\n",
            "up_sampling2d (UpSampling2D)    (None, 32, 32, 256)  0           dropout_10[0][0]                 \n",
            "__________________________________________________________________________________________________\n",
            "concatenate (Concatenate)       (None, 32, 32, 384)  0           up_sampling2d[0][0]              \n",
            "                                                                 add_3[0][0]                      \n",
            "__________________________________________________________________________________________________\n",
            "batch_normalization_16 (BatchNo (None, 32, 32, 384)  1536        concatenate[0][0]                \n",
            "__________________________________________________________________________________________________\n",
            "activation_11 (Activation)      (None, 32, 32, 384)  0           batch_normalization_16[0][0]     \n",
            "__________________________________________________________________________________________________\n",
            "conv2d_17 (Conv2D)              (None, 32, 32, 256)  884992      activation_11[0][0]              \n",
            "__________________________________________________________________________________________________\n",
            "dropout_11 (Dropout)            (None, 32, 32, 256)  0           conv2d_17[0][0]                  \n",
            "__________________________________________________________________________________________________\n",
            "batch_normalization_17 (BatchNo (None, 32, 32, 256)  1024        dropout_11[0][0]                 \n",
            "__________________________________________________________________________________________________\n",
            "activation_12 (Activation)      (None, 32, 32, 256)  0           batch_normalization_17[0][0]     \n",
            "__________________________________________________________________________________________________\n",
            "conv2d_19 (Conv2D)              (None, 32, 32, 256)  98560       concatenate[0][0]                \n",
            "__________________________________________________________________________________________________\n",
            "conv2d_18 (Conv2D)              (None, 32, 32, 256)  590080      activation_12[0][0]              \n",
            "__________________________________________________________________________________________________\n",
            "batch_normalization_18 (BatchNo (None, 32, 32, 256)  1024        conv2d_19[0][0]                  \n",
            "__________________________________________________________________________________________________\n",
            "dropout_12 (Dropout)            (None, 32, 32, 256)  0           conv2d_18[0][0]                  \n",
            "__________________________________________________________________________________________________\n",
            "add_5 (Add)                     (None, 32, 32, 256)  0           batch_normalization_18[0][0]     \n",
            "                                                                 dropout_12[0][0]                 \n",
            "__________________________________________________________________________________________________\n",
            "up_sampling2d_1 (UpSampling2D)  (None, 64, 64, 256)  0           add_5[0][0]                      \n",
            "__________________________________________________________________________________________________\n",
            "concatenate_1 (Concatenate)     (None, 64, 64, 320)  0           up_sampling2d_1[0][0]            \n",
            "                                                                 add_2[0][0]                      \n",
            "__________________________________________________________________________________________________\n",
            "batch_normalization_19 (BatchNo (None, 64, 64, 320)  1280        concatenate_1[0][0]              \n",
            "__________________________________________________________________________________________________\n",
            "activation_13 (Activation)      (None, 64, 64, 320)  0           batch_normalization_19[0][0]     \n",
            "__________________________________________________________________________________________________\n",
            "conv2d_20 (Conv2D)              (None, 64, 64, 128)  368768      activation_13[0][0]              \n",
            "__________________________________________________________________________________________________\n",
            "dropout_13 (Dropout)            (None, 64, 64, 128)  0           conv2d_20[0][0]                  \n",
            "__________________________________________________________________________________________________\n",
            "batch_normalization_20 (BatchNo (None, 64, 64, 128)  512         dropout_13[0][0]                 \n",
            "__________________________________________________________________________________________________\n",
            "activation_14 (Activation)      (None, 64, 64, 128)  0           batch_normalization_20[0][0]     \n",
            "__________________________________________________________________________________________________\n",
            "conv2d_22 (Conv2D)              (None, 64, 64, 128)  41088       concatenate_1[0][0]              \n",
            "__________________________________________________________________________________________________\n",
            "conv2d_21 (Conv2D)              (None, 64, 64, 128)  147584      activation_14[0][0]              \n",
            "__________________________________________________________________________________________________\n",
            "batch_normalization_21 (BatchNo (None, 64, 64, 128)  512         conv2d_22[0][0]                  \n",
            "__________________________________________________________________________________________________\n",
            "dropout_14 (Dropout)            (None, 64, 64, 128)  0           conv2d_21[0][0]                  \n",
            "__________________________________________________________________________________________________\n",
            "add_6 (Add)                     (None, 64, 64, 128)  0           batch_normalization_21[0][0]     \n",
            "                                                                 dropout_14[0][0]                 \n",
            "__________________________________________________________________________________________________\n",
            "up_sampling2d_2 (UpSampling2D)  (None, 128, 128, 128 0           add_6[0][0]                      \n",
            "__________________________________________________________________________________________________\n",
            "concatenate_2 (Concatenate)     (None, 128, 128, 160 0           up_sampling2d_2[0][0]            \n",
            "                                                                 add_1[0][0]                      \n",
            "__________________________________________________________________________________________________\n",
            "batch_normalization_22 (BatchNo (None, 128, 128, 160 640         concatenate_2[0][0]              \n",
            "__________________________________________________________________________________________________\n",
            "activation_15 (Activation)      (None, 128, 128, 160 0           batch_normalization_22[0][0]     \n",
            "__________________________________________________________________________________________________\n",
            "conv2d_23 (Conv2D)              (None, 128, 128, 64) 92224       activation_15[0][0]              \n",
            "__________________________________________________________________________________________________\n",
            "dropout_15 (Dropout)            (None, 128, 128, 64) 0           conv2d_23[0][0]                  \n",
            "__________________________________________________________________________________________________\n",
            "batch_normalization_23 (BatchNo (None, 128, 128, 64) 256         dropout_15[0][0]                 \n",
            "__________________________________________________________________________________________________\n",
            "activation_16 (Activation)      (None, 128, 128, 64) 0           batch_normalization_23[0][0]     \n",
            "__________________________________________________________________________________________________\n",
            "conv2d_25 (Conv2D)              (None, 128, 128, 64) 10304       concatenate_2[0][0]              \n",
            "__________________________________________________________________________________________________\n",
            "conv2d_24 (Conv2D)              (None, 128, 128, 64) 36928       activation_16[0][0]              \n",
            "__________________________________________________________________________________________________\n",
            "batch_normalization_24 (BatchNo (None, 128, 128, 64) 256         conv2d_25[0][0]                  \n",
            "__________________________________________________________________________________________________\n",
            "dropout_16 (Dropout)            (None, 128, 128, 64) 0           conv2d_24[0][0]                  \n",
            "__________________________________________________________________________________________________\n",
            "add_7 (Add)                     (None, 128, 128, 64) 0           batch_normalization_24[0][0]     \n",
            "                                                                 dropout_16[0][0]                 \n",
            "__________________________________________________________________________________________________\n",
            "up_sampling2d_3 (UpSampling2D)  (None, 256, 256, 64) 0           add_7[0][0]                      \n",
            "__________________________________________________________________________________________________\n",
            "concatenate_3 (Concatenate)     (None, 256, 256, 80) 0           up_sampling2d_3[0][0]            \n",
            "                                                                 add[0][0]                        \n",
            "__________________________________________________________________________________________________\n",
            "batch_normalization_25 (BatchNo (None, 256, 256, 80) 320         concatenate_3[0][0]              \n",
            "__________________________________________________________________________________________________\n",
            "activation_17 (Activation)      (None, 256, 256, 80) 0           batch_normalization_25[0][0]     \n",
            "__________________________________________________________________________________________________\n",
            "conv2d_26 (Conv2D)              (None, 256, 256, 32) 23072       activation_17[0][0]              \n",
            "__________________________________________________________________________________________________\n",
            "dropout_17 (Dropout)            (None, 256, 256, 32) 0           conv2d_26[0][0]                  \n",
            "__________________________________________________________________________________________________\n",
            "batch_normalization_26 (BatchNo (None, 256, 256, 32) 128         dropout_17[0][0]                 \n",
            "__________________________________________________________________________________________________\n",
            "activation_18 (Activation)      (None, 256, 256, 32) 0           batch_normalization_26[0][0]     \n",
            "__________________________________________________________________________________________________\n",
            "conv2d_28 (Conv2D)              (None, 256, 256, 32) 2592        concatenate_3[0][0]              \n",
            "__________________________________________________________________________________________________\n",
            "conv2d_27 (Conv2D)              (None, 256, 256, 32) 9248        activation_18[0][0]              \n",
            "__________________________________________________________________________________________________\n",
            "batch_normalization_27 (BatchNo (None, 256, 256, 32) 128         conv2d_28[0][0]                  \n",
            "__________________________________________________________________________________________________\n",
            "dropout_18 (Dropout)            (None, 256, 256, 32) 0           conv2d_27[0][0]                  \n",
            "__________________________________________________________________________________________________\n",
            "add_8 (Add)                     (None, 256, 256, 32) 0           batch_normalization_27[0][0]     \n",
            "                                                                 dropout_18[0][0]                 \n",
            "__________________________________________________________________________________________________\n",
            "conv2d_29 (Conv2D)              (None, 256, 256, 1)  33          add_8[0][0]                      \n",
            "==================================================================================================\n",
            "Total params: 4,723,057\n",
            "Trainable params: 4,715,761\n",
            "Non-trainable params: 7,296\n",
            "__________________________________________________________________________________________________\n"
          ],
          "name": "stdout"
        }
      ]
    },
    {
      "cell_type": "code",
      "metadata": {
        "id": "7gRXzPSPIjug",
        "colab": {
          "base_uri": "https://localhost:8080/"
        },
        "outputId": "8c1e5dc3-076f-4d20-9e56-ec3eb0ec3ead"
      },
      "source": [
        "hist = model.fit(train_data, \n",
        "                  epochs = 100, \n",
        "                  validation_data = val_data,\n",
        "                  callbacks = [checkpointer, earlystopping, reduce_lr]\n",
        "                 )"
      ],
      "execution_count": null,
      "outputs": [
        {
          "output_type": "stream",
          "text": [
            "Epoch 1/100\n",
            "36/36 [==============================] - 491s 12s/step - loss: 0.8376 - tversky: 0.2095 - dice_coef: 0.1412 - val_loss: 0.8214 - val_tversky: 0.2308 - val_dice_coef: 0.1535\n",
            "\n",
            "Epoch 00001: val_loss improved from inf to 0.82137, saving model to ResUNet-segModel-weights.hdf5\n"
          ],
          "name": "stdout"
        },
        {
          "output_type": "stream",
          "text": [
            "/usr/local/lib/python3.7/dist-packages/tensorflow/python/keras/utils/generic_utils.py:497: CustomMaskWarning: Custom mask layers require a config and must override get_config. When loading, the custom mask layer must be passed to the custom_objects argument.\n",
            "  category=CustomMaskWarning)\n"
          ],
          "name": "stderr"
        },
        {
          "output_type": "stream",
          "text": [
            "Epoch 2/100\n",
            "36/36 [==============================] - 33s 906ms/step - loss: 0.5564 - tversky: 0.5404 - dice_coef: 0.4834 - val_loss: 0.6340 - val_tversky: 0.4540 - val_dice_coef: 0.3504\n",
            "\n",
            "Epoch 00002: val_loss improved from 0.82137 to 0.63405, saving model to ResUNet-segModel-weights.hdf5\n",
            "Epoch 3/100\n",
            "36/36 [==============================] - 31s 862ms/step - loss: 0.4855 - tversky: 0.6177 - dice_coef: 0.5750 - val_loss: 0.5528 - val_tversky: 0.5459 - val_dice_coef: 0.5341\n",
            "\n",
            "Epoch 00003: val_loss improved from 0.63405 to 0.55279, saving model to ResUNet-segModel-weights.hdf5\n",
            "Epoch 4/100\n",
            "36/36 [==============================] - 32s 872ms/step - loss: 0.4403 - tversky: 0.6636 - dice_coef: 0.6307 - val_loss: 0.3826 - val_tversky: 0.7219 - val_dice_coef: 0.6932\n",
            "\n",
            "Epoch 00004: val_loss improved from 0.55279 to 0.38257, saving model to ResUNet-segModel-weights.hdf5\n",
            "Epoch 5/100\n",
            "36/36 [==============================] - 31s 864ms/step - loss: 0.3881 - tversky: 0.7160 - dice_coef: 0.6933 - val_loss: 0.4138 - val_tversky: 0.6909 - val_dice_coef: 0.6023\n",
            "\n",
            "Epoch 00005: val_loss did not improve from 0.38257\n",
            "Epoch 6/100\n",
            "36/36 [==============================] - 32s 870ms/step - loss: 0.3675 - tversky: 0.7357 - dice_coef: 0.7092 - val_loss: 0.6200 - val_tversky: 0.4710 - val_dice_coef: 0.3527\n",
            "\n",
            "Epoch 00006: val_loss did not improve from 0.38257\n",
            "Epoch 7/100\n",
            "36/36 [==============================] - 32s 877ms/step - loss: 0.3436 - tversky: 0.7583 - dice_coef: 0.7311 - val_loss: 0.4574 - val_tversky: 0.6449 - val_dice_coef: 0.5363\n",
            "\n",
            "Epoch 00007: val_loss did not improve from 0.38257\n",
            "Epoch 8/100\n",
            "36/36 [==============================] - 32s 882ms/step - loss: 0.3189 - tversky: 0.7815 - dice_coef: 0.7582 - val_loss: 0.3941 - val_tversky: 0.7100 - val_dice_coef: 0.6599\n",
            "\n",
            "Epoch 00008: val_loss did not improve from 0.38257\n",
            "Epoch 9/100\n",
            "36/36 [==============================] - 32s 886ms/step - loss: 0.3111 - tversky: 0.7884 - dice_coef: 0.7629 - val_loss: 0.4640 - val_tversky: 0.6396 - val_dice_coef: 0.5307\n",
            "\n",
            "Epoch 00009: val_loss did not improve from 0.38257\n",
            "Epoch 10/100\n",
            "36/36 [==============================] - 32s 887ms/step - loss: 0.2875 - tversky: 0.8097 - dice_coef: 0.7837 - val_loss: 0.3346 - val_tversky: 0.7672 - val_dice_coef: 0.7265\n",
            "\n",
            "Epoch 00010: val_loss improved from 0.38257 to 0.33458, saving model to ResUNet-segModel-weights.hdf5\n",
            "Epoch 11/100\n",
            "36/36 [==============================] - 32s 886ms/step - loss: 0.2970 - tversky: 0.8010 - dice_coef: 0.7787 - val_loss: 0.3454 - val_tversky: 0.7576 - val_dice_coef: 0.6805\n",
            "\n",
            "Epoch 00011: val_loss did not improve from 0.33458\n",
            "Epoch 12/100\n",
            "36/36 [==============================] - 32s 885ms/step - loss: 0.2777 - tversky: 0.8180 - dice_coef: 0.7927 - val_loss: 0.4069 - val_tversky: 0.6968 - val_dice_coef: 0.6036\n",
            "\n",
            "Epoch 00012: val_loss did not improve from 0.33458\n",
            "Epoch 13/100\n",
            "36/36 [==============================] - 32s 885ms/step - loss: 0.2743 - tversky: 0.8210 - dice_coef: 0.7972 - val_loss: 0.3201 - val_tversky: 0.7810 - val_dice_coef: 0.7453\n",
            "\n",
            "Epoch 00013: val_loss improved from 0.33458 to 0.32006, saving model to ResUNet-segModel-weights.hdf5\n",
            "Epoch 14/100\n",
            "36/36 [==============================] - 32s 884ms/step - loss: 0.2636 - tversky: 0.8303 - dice_coef: 0.8066 - val_loss: 0.7354 - val_tversky: 0.3360 - val_dice_coef: 0.2388\n",
            "\n",
            "Epoch 00014: val_loss did not improve from 0.32006\n",
            "Epoch 15/100\n",
            "36/36 [==============================] - 32s 885ms/step - loss: 0.2527 - tversky: 0.8395 - dice_coef: 0.8145 - val_loss: 0.3075 - val_tversky: 0.7913 - val_dice_coef: 0.7305\n",
            "\n",
            "Epoch 00015: val_loss improved from 0.32006 to 0.30746, saving model to ResUNet-segModel-weights.hdf5\n",
            "Epoch 16/100\n",
            "36/36 [==============================] - 32s 887ms/step - loss: 0.2493 - tversky: 0.8424 - dice_coef: 0.8221 - val_loss: 0.2989 - val_tversky: 0.7996 - val_dice_coef: 0.7419\n",
            "\n",
            "Epoch 00016: val_loss improved from 0.30746 to 0.29889, saving model to ResUNet-segModel-weights.hdf5\n",
            "Epoch 17/100\n",
            "36/36 [==============================] - 32s 884ms/step - loss: 0.2379 - tversky: 0.8520 - dice_coef: 0.8284 - val_loss: 0.2727 - val_tversky: 0.8232 - val_dice_coef: 0.8088\n",
            "\n",
            "Epoch 00017: val_loss improved from 0.29889 to 0.27268, saving model to ResUNet-segModel-weights.hdf5\n",
            "Epoch 18/100\n",
            "36/36 [==============================] - 32s 884ms/step - loss: 0.2330 - tversky: 0.8562 - dice_coef: 0.8329 - val_loss: 0.2694 - val_tversky: 0.8256 - val_dice_coef: 0.7789\n",
            "\n",
            "Epoch 00018: val_loss improved from 0.27268 to 0.26944, saving model to ResUNet-segModel-weights.hdf5\n",
            "Epoch 19/100\n",
            "36/36 [==============================] - 32s 892ms/step - loss: 0.2319 - tversky: 0.8570 - dice_coef: 0.8346 - val_loss: 0.2899 - val_tversky: 0.8076 - val_dice_coef: 0.7469\n",
            "\n",
            "Epoch 00019: val_loss did not improve from 0.26944\n",
            "Epoch 20/100\n",
            "36/36 [==============================] - 32s 883ms/step - loss: 0.2227 - tversky: 0.8646 - dice_coef: 0.8411 - val_loss: 0.4549 - val_tversky: 0.6501 - val_dice_coef: 0.5368\n",
            "\n",
            "Epoch 00020: val_loss did not improve from 0.26944\n",
            "Epoch 21/100\n",
            "36/36 [==============================] - 32s 885ms/step - loss: 0.2226 - tversky: 0.8647 - dice_coef: 0.8416 - val_loss: 0.2710 - val_tversky: 0.8246 - val_dice_coef: 0.7871\n",
            "\n",
            "Epoch 00021: val_loss did not improve from 0.26944\n",
            "Epoch 22/100\n",
            "36/36 [==============================] - 32s 885ms/step - loss: 0.2122 - tversky: 0.8729 - dice_coef: 0.8498 - val_loss: 0.2312 - val_tversky: 0.8579 - val_dice_coef: 0.8196\n",
            "\n",
            "Epoch 00022: val_loss improved from 0.26944 to 0.23123, saving model to ResUNet-segModel-weights.hdf5\n",
            "Epoch 23/100\n",
            "36/36 [==============================] - 32s 887ms/step - loss: 0.2115 - tversky: 0.8736 - dice_coef: 0.8499 - val_loss: 0.3109 - val_tversky: 0.7892 - val_dice_coef: 0.7212\n",
            "\n",
            "Epoch 00023: val_loss did not improve from 0.23123\n",
            "Epoch 24/100\n",
            "36/36 [==============================] - 32s 894ms/step - loss: 0.2083 - tversky: 0.8762 - dice_coef: 0.8542 - val_loss: 0.2462 - val_tversky: 0.8441 - val_dice_coef: 0.7963\n",
            "\n",
            "Epoch 00024: val_loss did not improve from 0.23123\n",
            "Epoch 25/100\n",
            "36/36 [==============================] - 32s 885ms/step - loss: 0.1950 - tversky: 0.8865 - dice_coef: 0.8645 - val_loss: 0.2928 - val_tversky: 0.8052 - val_dice_coef: 0.7361\n",
            "\n",
            "Epoch 00025: val_loss did not improve from 0.23123\n",
            "Epoch 26/100\n",
            "36/36 [==============================] - 32s 885ms/step - loss: 0.2038 - tversky: 0.8796 - dice_coef: 0.8552 - val_loss: 0.2419 - val_tversky: 0.8492 - val_dice_coef: 0.7960\n",
            "\n",
            "Epoch 00026: val_loss did not improve from 0.23123\n",
            "Epoch 27/100\n",
            "36/36 [==============================] - 32s 883ms/step - loss: 0.1869 - tversky: 0.8929 - dice_coef: 0.8701 - val_loss: 0.2351 - val_tversky: 0.8547 - val_dice_coef: 0.7965\n",
            "\n",
            "Epoch 00027: val_loss did not improve from 0.23123\n",
            "Epoch 28/100\n",
            "36/36 [==============================] - 32s 886ms/step - loss: 0.1991 - tversky: 0.8835 - dice_coef: 0.8594 - val_loss: 0.2814 - val_tversky: 0.8155 - val_dice_coef: 0.7477\n",
            "\n",
            "Epoch 00028: val_loss did not improve from 0.23123\n",
            "Epoch 29/100\n",
            "36/36 [==============================] - 32s 883ms/step - loss: 0.1878 - tversky: 0.8921 - dice_coef: 0.8690 - val_loss: 0.2568 - val_tversky: 0.8366 - val_dice_coef: 0.7753\n",
            "\n",
            "Epoch 00029: val_loss did not improve from 0.23123\n",
            "Epoch 30/100\n",
            "36/36 [==============================] - 32s 886ms/step - loss: 0.1845 - tversky: 0.8947 - dice_coef: 0.8719 - val_loss: 0.1922 - val_tversky: 0.8885 - val_dice_coef: 0.8611\n",
            "\n",
            "Epoch 00030: val_loss improved from 0.23123 to 0.19219, saving model to ResUNet-segModel-weights.hdf5\n",
            "Epoch 31/100\n",
            "36/36 [==============================] - 32s 884ms/step - loss: 0.1806 - tversky: 0.8976 - dice_coef: 0.8758 - val_loss: 0.2141 - val_tversky: 0.8714 - val_dice_coef: 0.8346\n",
            "\n",
            "Epoch 00031: val_loss did not improve from 0.19219\n",
            "Epoch 32/100\n",
            "36/36 [==============================] - 32s 886ms/step - loss: 0.1853 - tversky: 0.8941 - dice_coef: 0.8737 - val_loss: 0.2746 - val_tversky: 0.8211 - val_dice_coef: 0.7427\n",
            "\n",
            "Epoch 00032: val_loss did not improve from 0.19219\n",
            "Epoch 33/100\n",
            "36/36 [==============================] - 32s 886ms/step - loss: 0.1773 - tversky: 0.9002 - dice_coef: 0.8767 - val_loss: 0.1811 - val_tversky: 0.8972 - val_dice_coef: 0.8700\n",
            "\n",
            "Epoch 00033: val_loss improved from 0.19219 to 0.18109, saving model to ResUNet-segModel-weights.hdf5\n",
            "Epoch 34/100\n",
            "36/36 [==============================] - 32s 888ms/step - loss: 0.1740 - tversky: 0.9026 - dice_coef: 0.8812 - val_loss: 0.2123 - val_tversky: 0.8729 - val_dice_coef: 0.8296\n",
            "\n",
            "Epoch 00034: val_loss did not improve from 0.18109\n",
            "Epoch 35/100\n",
            "36/36 [==============================] - 32s 886ms/step - loss: 0.1719 - tversky: 0.9042 - dice_coef: 0.8830 - val_loss: 0.1893 - val_tversky: 0.8911 - val_dice_coef: 0.8674\n",
            "\n",
            "Epoch 00035: val_loss did not improve from 0.18109\n",
            "Epoch 36/100\n",
            "36/36 [==============================] - 32s 884ms/step - loss: 0.1716 - tversky: 0.9044 - dice_coef: 0.8836 - val_loss: 0.2556 - val_tversky: 0.8375 - val_dice_coef: 0.7721\n",
            "\n",
            "Epoch 00036: val_loss did not improve from 0.18109\n",
            "Epoch 37/100\n",
            "36/36 [==============================] - 32s 888ms/step - loss: 0.1673 - tversky: 0.9076 - dice_coef: 0.8869 - val_loss: 0.2563 - val_tversky: 0.8371 - val_dice_coef: 0.7708\n",
            "\n",
            "Epoch 00037: val_loss did not improve from 0.18109\n",
            "Epoch 38/100\n",
            "36/36 [==============================] - 32s 884ms/step - loss: 0.1640 - tversky: 0.9100 - dice_coef: 0.8893 - val_loss: 0.2274 - val_tversky: 0.8609 - val_dice_coef: 0.8041\n",
            "\n",
            "Epoch 00038: val_loss did not improve from 0.18109\n",
            "Epoch 39/100\n",
            "36/36 [==============================] - 32s 884ms/step - loss: 0.1608 - tversky: 0.9124 - dice_coef: 0.8924 - val_loss: 0.2033 - val_tversky: 0.8803 - val_dice_coef: 0.8367\n",
            "\n",
            "Epoch 00039: val_loss did not improve from 0.18109\n",
            "Epoch 40/100\n",
            "36/36 [==============================] - 32s 882ms/step - loss: 0.1609 - tversky: 0.9122 - dice_coef: 0.8923 - val_loss: 0.1924 - val_tversky: 0.8881 - val_dice_coef: 0.8534\n",
            "\n",
            "Epoch 00040: val_loss did not improve from 0.18109\n",
            "Epoch 41/100\n",
            "36/36 [==============================] - 32s 886ms/step - loss: 0.1646 - tversky: 0.9095 - dice_coef: 0.8887 - val_loss: 0.1971 - val_tversky: 0.8853 - val_dice_coef: 0.8471\n",
            "\n",
            "Epoch 00041: val_loss did not improve from 0.18109\n",
            "Epoch 42/100\n",
            "36/36 [==============================] - 32s 885ms/step - loss: 0.1621 - tversky: 0.9114 - dice_coef: 0.8907 - val_loss: 0.2728 - val_tversky: 0.8231 - val_dice_coef: 0.7463\n",
            "\n",
            "Epoch 00042: val_loss did not improve from 0.18109\n",
            "Epoch 43/100\n",
            "36/36 [==============================] - 32s 888ms/step - loss: 0.1588 - tversky: 0.9138 - dice_coef: 0.8940 - val_loss: 0.1923 - val_tversky: 0.8882 - val_dice_coef: 0.8545\n",
            "\n",
            "Epoch 00043: val_loss did not improve from 0.18109\n",
            "\n",
            "Epoch 00043: ReduceLROnPlateau reducing learning rate to 0.010000000149011612.\n",
            "Epoch 44/100\n",
            "36/36 [==============================] - 32s 886ms/step - loss: 0.1529 - tversky: 0.9180 - dice_coef: 0.8991 - val_loss: 0.1922 - val_tversky: 0.8891 - val_dice_coef: 0.8500\n",
            "\n",
            "Epoch 00044: val_loss did not improve from 0.18109\n",
            "Epoch 45/100\n",
            "36/36 [==============================] - 32s 887ms/step - loss: 0.1511 - tversky: 0.9193 - dice_coef: 0.9012 - val_loss: 0.1829 - val_tversky: 0.8958 - val_dice_coef: 0.8574\n",
            "\n",
            "Epoch 00045: val_loss did not improve from 0.18109\n",
            "Epoch 46/100\n",
            "36/36 [==============================] - 32s 886ms/step - loss: 0.1507 - tversky: 0.9196 - dice_coef: 0.9004 - val_loss: 0.1971 - val_tversky: 0.8850 - val_dice_coef: 0.8396\n",
            "\n",
            "Epoch 00046: val_loss did not improve from 0.18109\n",
            "Epoch 47/100\n",
            "36/36 [==============================] - 32s 885ms/step - loss: 0.1490 - tversky: 0.9208 - dice_coef: 0.9013 - val_loss: 0.1914 - val_tversky: 0.8894 - val_dice_coef: 0.8508\n",
            "\n",
            "Epoch 00047: val_loss did not improve from 0.18109\n",
            "Epoch 48/100\n",
            "36/36 [==============================] - 32s 892ms/step - loss: 0.1475 - tversky: 0.9219 - dice_coef: 0.9033 - val_loss: 0.1943 - val_tversky: 0.8869 - val_dice_coef: 0.8472\n",
            "\n",
            "Epoch 00048: val_loss did not improve from 0.18109\n",
            "Epoch 49/100\n",
            "36/36 [==============================] - 32s 888ms/step - loss: 0.1487 - tversky: 0.9210 - dice_coef: 0.9022 - val_loss: 0.1797 - val_tversky: 0.8985 - val_dice_coef: 0.8639\n",
            "\n",
            "Epoch 00049: val_loss improved from 0.18109 to 0.17966, saving model to ResUNet-segModel-weights.hdf5\n",
            "Epoch 50/100\n",
            "36/36 [==============================] - 32s 885ms/step - loss: 0.1480 - tversky: 0.9215 - dice_coef: 0.9029 - val_loss: 0.1978 - val_tversky: 0.8847 - val_dice_coef: 0.8412\n",
            "\n",
            "Epoch 00050: val_loss did not improve from 0.17966\n",
            "Epoch 51/100\n",
            "36/36 [==============================] - 32s 887ms/step - loss: 0.1480 - tversky: 0.9216 - dice_coef: 0.9024 - val_loss: 0.1833 - val_tversky: 0.8958 - val_dice_coef: 0.8568\n",
            "\n",
            "Epoch 00051: val_loss did not improve from 0.17966\n",
            "Epoch 52/100\n",
            "36/36 [==============================] - 32s 883ms/step - loss: 0.1471 - tversky: 0.9221 - dice_coef: 0.9037 - val_loss: 0.1866 - val_tversky: 0.8931 - val_dice_coef: 0.8574\n",
            "\n",
            "Epoch 00052: val_loss did not improve from 0.17966\n",
            "Epoch 53/100\n",
            "36/36 [==============================] - 32s 884ms/step - loss: 0.1463 - tversky: 0.9228 - dice_coef: 0.9043 - val_loss: 0.1817 - val_tversky: 0.8966 - val_dice_coef: 0.8630\n",
            "\n",
            "Epoch 00053: val_loss did not improve from 0.17966\n",
            "Epoch 54/100\n",
            "36/36 [==============================] - 32s 885ms/step - loss: 0.1470 - tversky: 0.9222 - dice_coef: 0.9039 - val_loss: 0.1809 - val_tversky: 0.8975 - val_dice_coef: 0.8639\n",
            "\n",
            "Epoch 00054: val_loss did not improve from 0.17966\n",
            "Epoch 55/100\n",
            "36/36 [==============================] - 32s 892ms/step - loss: 0.1451 - tversky: 0.9235 - dice_coef: 0.9055 - val_loss: 0.1840 - val_tversky: 0.8949 - val_dice_coef: 0.8596\n",
            "\n",
            "Epoch 00055: val_loss did not improve from 0.17966\n",
            "Epoch 56/100\n",
            "36/36 [==============================] - 32s 886ms/step - loss: 0.1458 - tversky: 0.9230 - dice_coef: 0.9040 - val_loss: 0.1870 - val_tversky: 0.8930 - val_dice_coef: 0.8553\n",
            "\n",
            "Epoch 00056: val_loss did not improve from 0.17966\n",
            "Epoch 57/100\n",
            "36/36 [==============================] - 32s 884ms/step - loss: 0.1448 - tversky: 0.9238 - dice_coef: 0.9058 - val_loss: 0.1948 - val_tversky: 0.8869 - val_dice_coef: 0.8434\n",
            "\n",
            "Epoch 00057: val_loss did not improve from 0.17966\n",
            "Epoch 58/100\n",
            "36/36 [==============================] - 32s 886ms/step - loss: 0.1456 - tversky: 0.9230 - dice_coef: 0.9039 - val_loss: 0.1810 - val_tversky: 0.8974 - val_dice_coef: 0.8635\n",
            "\n",
            "Epoch 00058: val_loss did not improve from 0.17966\n",
            "Epoch 59/100\n",
            "36/36 [==============================] - 32s 885ms/step - loss: 0.1469 - tversky: 0.9223 - dice_coef: 0.9044 - val_loss: 0.1951 - val_tversky: 0.8863 - val_dice_coef: 0.8404\n",
            "\n",
            "Epoch 00059: val_loss did not improve from 0.17966\n",
            "\n",
            "Epoch 00059: ReduceLROnPlateau reducing learning rate to 0.0019999999552965165.\n",
            "Epoch 60/100\n",
            "36/36 [==============================] - 32s 882ms/step - loss: 0.1439 - tversky: 0.9244 - dice_coef: 0.9053 - val_loss: 0.1882 - val_tversky: 0.8921 - val_dice_coef: 0.8532\n",
            "\n",
            "Epoch 00060: val_loss did not improve from 0.17966\n",
            "Epoch 61/100\n",
            "36/36 [==============================] - 32s 886ms/step - loss: 0.1446 - tversky: 0.9238 - dice_coef: 0.9065 - val_loss: 0.1904 - val_tversky: 0.8903 - val_dice_coef: 0.8513\n",
            "\n",
            "Epoch 00061: val_loss did not improve from 0.17966\n",
            "Epoch 62/100\n",
            "36/36 [==============================] - 32s 884ms/step - loss: 0.1425 - tversky: 0.9255 - dice_coef: 0.9065 - val_loss: 0.1933 - val_tversky: 0.8878 - val_dice_coef: 0.8459\n",
            "\n",
            "Epoch 00062: val_loss did not improve from 0.17966\n",
            "Epoch 63/100\n",
            "36/36 [==============================] - 32s 884ms/step - loss: 0.1437 - tversky: 0.9246 - dice_coef: 0.9060 - val_loss: 0.1925 - val_tversky: 0.8884 - val_dice_coef: 0.8483\n",
            "\n",
            "Epoch 00063: val_loss did not improve from 0.17966\n",
            "Epoch 64/100\n",
            "36/36 [==============================] - 32s 884ms/step - loss: 0.1423 - tversky: 0.9256 - dice_coef: 0.9085 - val_loss: 0.1860 - val_tversky: 0.8936 - val_dice_coef: 0.8563\n",
            "\n",
            "Epoch 00064: val_loss did not improve from 0.17966\n",
            "Epoch 65/100\n",
            "36/36 [==============================] - 32s 885ms/step - loss: 0.1424 - tversky: 0.9255 - dice_coef: 0.9072 - val_loss: 0.1896 - val_tversky: 0.8909 - val_dice_coef: 0.8534\n",
            "\n",
            "Epoch 00065: val_loss did not improve from 0.17966\n",
            "Epoch 66/100\n",
            "36/36 [==============================] - 32s 885ms/step - loss: 0.1422 - tversky: 0.9257 - dice_coef: 0.9081 - val_loss: 0.1807 - val_tversky: 0.8978 - val_dice_coef: 0.8603\n",
            "\n",
            "Epoch 00066: val_loss did not improve from 0.17966\n",
            "Epoch 67/100\n",
            "36/36 [==============================] - 32s 884ms/step - loss: 0.1421 - tversky: 0.9256 - dice_coef: 0.9075 - val_loss: 0.1784 - val_tversky: 0.8994 - val_dice_coef: 0.8619\n",
            "\n",
            "Epoch 00067: val_loss improved from 0.17966 to 0.17842, saving model to ResUNet-segModel-weights.hdf5\n",
            "Epoch 68/100\n",
            "36/36 [==============================] - 32s 887ms/step - loss: 0.1426 - tversky: 0.9253 - dice_coef: 0.9066 - val_loss: 0.1910 - val_tversky: 0.8900 - val_dice_coef: 0.8510\n",
            "\n",
            "Epoch 00068: val_loss did not improve from 0.17842\n",
            "Epoch 69/100\n",
            "36/36 [==============================] - 32s 885ms/step - loss: 0.1419 - tversky: 0.9259 - dice_coef: 0.9084 - val_loss: 0.1849 - val_tversky: 0.8943 - val_dice_coef: 0.8556\n",
            "\n",
            "Epoch 00069: val_loss did not improve from 0.17842\n",
            "Epoch 70/100\n",
            "36/36 [==============================] - 32s 886ms/step - loss: 0.1426 - tversky: 0.9252 - dice_coef: 0.9072 - val_loss: 0.1887 - val_tversky: 0.8918 - val_dice_coef: 0.8517\n",
            "\n",
            "Epoch 00070: val_loss did not improve from 0.17842\n",
            "Epoch 71/100\n",
            "36/36 [==============================] - 32s 884ms/step - loss: 0.1428 - tversky: 0.9252 - dice_coef: 0.9068 - val_loss: 0.1842 - val_tversky: 0.8952 - val_dice_coef: 0.8549\n",
            "\n",
            "Epoch 00071: val_loss did not improve from 0.17842\n",
            "Epoch 72/100\n",
            "36/36 [==============================] - 32s 886ms/step - loss: 0.1433 - tversky: 0.9248 - dice_coef: 0.9065 - val_loss: 0.1845 - val_tversky: 0.8948 - val_dice_coef: 0.8555\n",
            "\n",
            "Epoch 00072: val_loss did not improve from 0.17842\n",
            "Epoch 73/100\n",
            "36/36 [==============================] - 32s 884ms/step - loss: 0.1418 - tversky: 0.9259 - dice_coef: 0.9070 - val_loss: 0.1905 - val_tversky: 0.8902 - val_dice_coef: 0.8523\n",
            "\n",
            "Epoch 00073: val_loss did not improve from 0.17842\n",
            "Epoch 74/100\n",
            "36/36 [==============================] - 32s 893ms/step - loss: 0.1424 - tversky: 0.9255 - dice_coef: 0.9083 - val_loss: 0.1892 - val_tversky: 0.8913 - val_dice_coef: 0.8508\n",
            "\n",
            "Epoch 00074: val_loss did not improve from 0.17842\n",
            "Epoch 75/100\n",
            "36/36 [==============================] - 32s 885ms/step - loss: 0.1436 - tversky: 0.9247 - dice_coef: 0.9060 - val_loss: 0.1837 - val_tversky: 0.8956 - val_dice_coef: 0.8576\n",
            "\n",
            "Epoch 00075: val_loss did not improve from 0.17842\n",
            "Epoch 76/100\n",
            "36/36 [==============================] - 32s 884ms/step - loss: 0.1424 - tversky: 0.9254 - dice_coef: 0.9058 - val_loss: 0.1839 - val_tversky: 0.8949 - val_dice_coef: 0.8597\n",
            "\n",
            "Epoch 00076: val_loss did not improve from 0.17842\n",
            "Epoch 77/100\n",
            "36/36 [==============================] - 32s 887ms/step - loss: 0.1425 - tversky: 0.9254 - dice_coef: 0.9070 - val_loss: 0.1847 - val_tversky: 0.8946 - val_dice_coef: 0.8576\n",
            "\n",
            "Epoch 00077: val_loss did not improve from 0.17842\n",
            "\n",
            "Epoch 00077: ReduceLROnPlateau reducing learning rate to 0.0003999999724328518.\n",
            "Epoch 78/100\n",
            "36/36 [==============================] - 32s 888ms/step - loss: 0.1415 - tversky: 0.9261 - dice_coef: 0.9083 - val_loss: 0.1873 - val_tversky: 0.8927 - val_dice_coef: 0.8528\n",
            "\n",
            "Epoch 00078: val_loss did not improve from 0.17842\n",
            "Epoch 79/100\n",
            "36/36 [==============================] - 32s 883ms/step - loss: 0.1413 - tversky: 0.9263 - dice_coef: 0.9081 - val_loss: 0.1876 - val_tversky: 0.8923 - val_dice_coef: 0.8541\n",
            "\n",
            "Epoch 00079: val_loss did not improve from 0.17842\n",
            "Epoch 80/100\n",
            "36/36 [==============================] - 32s 885ms/step - loss: 0.1408 - tversky: 0.9266 - dice_coef: 0.9087 - val_loss: 0.1842 - val_tversky: 0.8951 - val_dice_coef: 0.8555\n",
            "\n",
            "Epoch 00080: val_loss did not improve from 0.17842\n",
            "Epoch 81/100\n",
            "36/36 [==============================] - 32s 894ms/step - loss: 0.1421 - tversky: 0.9257 - dice_coef: 0.9078 - val_loss: 0.1791 - val_tversky: 0.8989 - val_dice_coef: 0.8616\n",
            "\n",
            "Epoch 00081: val_loss did not improve from 0.17842\n",
            "Epoch 82/100\n",
            "36/36 [==============================] - 32s 889ms/step - loss: 0.1420 - tversky: 0.9258 - dice_coef: 0.9077 - val_loss: 0.1846 - val_tversky: 0.8949 - val_dice_coef: 0.8552\n",
            "\n",
            "Epoch 00082: val_loss did not improve from 0.17842\n",
            "Epoch 83/100\n",
            "36/36 [==============================] - 32s 887ms/step - loss: 0.1411 - tversky: 0.9263 - dice_coef: 0.9085 - val_loss: 0.1825 - val_tversky: 0.8964 - val_dice_coef: 0.8595\n",
            "\n",
            "Epoch 00083: val_loss did not improve from 0.17842\n",
            "Epoch 84/100\n",
            "36/36 [==============================] - 32s 887ms/step - loss: 0.1418 - tversky: 0.9259 - dice_coef: 0.9076 - val_loss: 0.1870 - val_tversky: 0.8928 - val_dice_coef: 0.8551\n",
            "\n",
            "Epoch 00084: val_loss did not improve from 0.17842\n",
            "Epoch 85/100\n",
            "36/36 [==============================] - 32s 884ms/step - loss: 0.1413 - tversky: 0.9262 - dice_coef: 0.9080 - val_loss: 0.1890 - val_tversky: 0.8913 - val_dice_coef: 0.8526\n",
            "\n",
            "Epoch 00085: val_loss did not improve from 0.17842\n",
            "Epoch 86/100\n",
            "36/36 [==============================] - 32s 886ms/step - loss: 0.1416 - tversky: 0.9260 - dice_coef: 0.9082 - val_loss: 0.1887 - val_tversky: 0.8916 - val_dice_coef: 0.8526\n",
            "\n",
            "Epoch 00086: val_loss did not improve from 0.17842\n",
            "Epoch 87/100\n",
            "36/36 [==============================] - 32s 888ms/step - loss: 0.1427 - tversky: 0.9253 - dice_coef: 0.9068 - val_loss: 0.1839 - val_tversky: 0.8950 - val_dice_coef: 0.8578\n",
            "\n",
            "Epoch 00087: val_loss did not improve from 0.17842\n",
            "\n",
            "Epoch 00087: ReduceLROnPlateau reducing learning rate to 7.999999215826393e-05.\n",
            "Epoch 00087: early stopping\n"
          ],
          "name": "stdout"
        }
      ]
    },
    {
      "cell_type": "code",
      "metadata": {
        "id": "KxvdoCySI2Ij"
      },
      "source": [
        "model_json = model_seg.to_json()\n",
        "with open(\"ResUNet-model.json\",\"w\") as json_file:\n",
        "    json_file.write(model_json)"
      ],
      "execution_count": null,
      "outputs": []
    },
    {
      "cell_type": "code",
      "metadata": {
        "id": "e1kZrM_aKL2Z",
        "colab": {
          "base_uri": "https://localhost:8080/"
        },
        "outputId": "f2cbada3-31cb-4bf1-9428-1e5346fe99c6"
      },
      "source": [
        "test_ids = list(X_test.image_path)\n",
        "test_mask = list(X_test.mask_path)\n",
        "test_data = DataGenerator(test_ids, test_mask)\n",
        "_, tv, dc = model.evaluate(test_data)\n",
        "print(\"Segmentation tversky is {:.2f}%\".format(tv*100))\n",
        "print(\"Segmentation tversky is {:.2f}%\".format(dc*100))"
      ],
      "execution_count": null,
      "outputs": [
        {
          "output_type": "stream",
          "text": [
            "3/3 [==============================] - 28s 14s/step - loss: 0.1696 - tversky: 0.9059 - dice_coef: 0.8658\n",
            "Segmentation tversky is 90.59%\n",
            "Segmentation tversky is 86.58%\n"
          ],
          "name": "stdout"
        }
      ]
    },
    {
      "cell_type": "code",
      "metadata": {
        "id": "JPVELFieSPNU"
      },
      "source": [
        ""
      ],
      "execution_count": null,
      "outputs": []
    },
    {
      "cell_type": "code",
      "metadata": {
        "id": "8UG6CXH-KP7G"
      },
      "source": [
        "# plt.figure(figsize=(12,5))\n",
        "# plt.subplot(1,2,1)\n",
        "plt.plot(hist.history['loss']);\n",
        "plt.plot(hist.history['val_loss']);\n",
        "plt.title(\"SEG Model focal tversky Loss\");\n",
        "plt.ylabel(\"focal tversky loss\");\n",
        "plt.xlabel(\"Epochs\");\n",
        "plt.legend(['train', 'val']);\n",
        "\n",
        "# plt.subplot(1,2,2)\n"
      ],
      "execution_count": null,
      "outputs": []
    },
    {
      "cell_type": "code",
      "metadata": {
        "id": "zarjXMXqM3AY"
      },
      "source": [
        "plt.plot(hist.history['tversky']);\n",
        "plt.plot(hist.history['val_tversky']);\n",
        "plt.title(\"SEG Model tversky score\");\n",
        "plt.ylabel(\"tversky Accuracy\");\n",
        "plt.xlabel(\"Epochs\");\n",
        "plt.legend(['train', 'val']);"
      ],
      "execution_count": null,
      "outputs": []
    },
    {
      "cell_type": "code",
      "metadata": {
        "colab": {
          "base_uri": "https://localhost:8080/",
          "height": 295
        },
        "id": "a1n6JNhs7h00",
        "outputId": "7e0579c6-d3c8-496f-9b54-a397b291838b"
      },
      "source": [
        "plt.plot(hist.history['dice_coef']);\n",
        "plt.plot(hist.history['val_dice_coef']);\n",
        "plt.title(\"SEG Model dice_coef score\");\n",
        "plt.ylabel(\"dice_coef Accuracy\");\n",
        "plt.xlabel(\"Epochs\");\n",
        "plt.legend(['train', 'val']);"
      ],
      "execution_count": null,
      "outputs": [
        {
          "output_type": "display_data",
          "data": {
            "image/png": "[encoded data removed]",
            "text/plain": [
              "<Figure size 432x288 with 1 Axes>"
            ]
          },
          "metadata": {
            "tags": [],
            "needs_background": "light"
          }
        }
      ]
    },
    {
      "cell_type": "code",
      "metadata": {
        "id": "vpg3QnFuKuf7"
      },
      "source": [
        "from tensorflow.keras.models import load_model\n",
        "model_seg.save('Segmentation.h5')"
      ],
      "execution_count": null,
      "outputs": []
    },
    {
      "cell_type": "code",
      "metadata": {
        "id": "XzWczs3ohSA1"
      },
      "source": [
        ""
      ],
      "execution_count": null,
      "outputs": []
    }
  ]
}